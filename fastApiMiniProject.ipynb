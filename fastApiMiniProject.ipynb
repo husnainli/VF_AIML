{
 "cells": [
  {
   "cell_type": "markdown",
   "id": "6d537444",
   "metadata": {},
   "source": [
    "## Profile Uploader & Viewer API"
   ]
  },
  {
   "cell_type": "markdown",
   "id": "f6c9f8ee",
   "metadata": {},
   "source": [
    "### Required Installation"
   ]
  },
  {
   "cell_type": "code",
   "execution_count": 1,
   "id": "df49dd58",
   "metadata": {},
   "outputs": [
    {
     "name": "stdout",
     "output_type": "stream",
     "text": [
      "Requirement already satisfied: fastapi in /Users/husnainli/anaconda3/lib/python3.11/site-packages (0.116.1)\n",
      "Requirement already satisfied: uvicorn in /Users/husnainli/anaconda3/lib/python3.11/site-packages (0.35.0)\n",
      "Requirement already satisfied: python-multipart in /Users/husnainli/anaconda3/lib/python3.11/site-packages (0.0.20)\n",
      "Requirement already satisfied: pillow in /Users/husnainli/anaconda3/lib/python3.11/site-packages (9.4.0)\n",
      "Requirement already satisfied: jinja2 in /Users/husnainli/anaconda3/lib/python3.11/site-packages (3.1.2)\n",
      "Requirement already satisfied: nest_asyncio in /Users/husnainli/anaconda3/lib/python3.11/site-packages (1.5.6)\n",
      "Requirement already satisfied: aiofiles in /Users/husnainli/anaconda3/lib/python3.11/site-packages (22.1.0)\n",
      "Requirement already satisfied: starlette<0.48.0,>=0.40.0 in /Users/husnainli/anaconda3/lib/python3.11/site-packages (from fastapi) (0.47.1)\n",
      "Requirement already satisfied: pydantic!=1.8,!=1.8.1,!=2.0.0,!=2.0.1,!=2.1.0,<3.0.0,>=1.7.4 in /Users/husnainli/anaconda3/lib/python3.11/site-packages (from fastapi) (2.11.7)\n",
      "Requirement already satisfied: typing-extensions>=4.8.0 in /Users/husnainli/anaconda3/lib/python3.11/site-packages (from fastapi) (4.12.2)\n",
      "Requirement already satisfied: click>=7.0 in /Users/husnainli/anaconda3/lib/python3.11/site-packages (from uvicorn) (8.0.4)\n",
      "Requirement already satisfied: h11>=0.8 in /Users/husnainli/anaconda3/lib/python3.11/site-packages (from uvicorn) (0.16.0)\n",
      "Requirement already satisfied: MarkupSafe>=2.0 in /Users/husnainli/anaconda3/lib/python3.11/site-packages (from jinja2) (2.1.1)\n",
      "Requirement already satisfied: annotated-types>=0.6.0 in /Users/husnainli/anaconda3/lib/python3.11/site-packages (from pydantic!=1.8,!=1.8.1,!=2.0.0,!=2.0.1,!=2.1.0,<3.0.0,>=1.7.4->fastapi) (0.6.0)\n",
      "Requirement already satisfied: pydantic-core==2.33.2 in /Users/husnainli/anaconda3/lib/python3.11/site-packages (from pydantic!=1.8,!=1.8.1,!=2.0.0,!=2.0.1,!=2.1.0,<3.0.0,>=1.7.4->fastapi) (2.33.2)\n",
      "Requirement already satisfied: typing-inspection>=0.4.0 in /Users/husnainli/anaconda3/lib/python3.11/site-packages (from pydantic!=1.8,!=1.8.1,!=2.0.0,!=2.0.1,!=2.1.0,<3.0.0,>=1.7.4->fastapi) (0.4.1)\n",
      "Requirement already satisfied: anyio<5,>=3.6.2 in /Users/husnainli/anaconda3/lib/python3.11/site-packages (from starlette<0.48.0,>=0.40.0->fastapi) (3.6.2)\n",
      "Requirement already satisfied: idna>=2.8 in /Users/husnainli/anaconda3/lib/python3.11/site-packages (from anyio<5,>=3.6.2->starlette<0.48.0,>=0.40.0->fastapi) (3.4)\n",
      "Requirement already satisfied: sniffio>=1.1 in /Users/husnainli/anaconda3/lib/python3.11/site-packages (from anyio<5,>=3.6.2->starlette<0.48.0,>=0.40.0->fastapi) (1.2.0)\n",
      "Requirement already satisfied: anyio==3.6.2 in /Users/husnainli/anaconda3/lib/python3.11/site-packages (3.6.2)\n",
      "Requirement already satisfied: idna>=2.8 in /Users/husnainli/anaconda3/lib/python3.11/site-packages (from anyio==3.6.2) (3.4)\n",
      "Requirement already satisfied: sniffio>=1.1 in /Users/husnainli/anaconda3/lib/python3.11/site-packages (from anyio==3.6.2) (1.2.0)\n"
     ]
    }
   ],
   "source": [
    "!pip install fastapi uvicorn python-multipart pillow jinja2 nest_asyncio aiofiles\n",
    "!pip install anyio==3.6.2"
   ]
  },
  {
   "cell_type": "markdown",
   "id": "ee632c59",
   "metadata": {},
   "source": [
    "#### nest_asyncio lets us run uvicorn server inside a Jupyter cell."
   ]
  },
  {
   "cell_type": "markdown",
   "id": "1c637b16",
   "metadata": {},
   "source": [
    "### Step 1: Imports and Setup"
   ]
  },
  {
   "cell_type": "code",
   "execution_count": 2,
   "id": "bbce65a1",
   "metadata": {},
   "outputs": [],
   "source": [
    "import os\n",
    "import json\n",
    "from uuid import uuid4\n",
    "from fastapi import FastAPI, Form, File, UploadFile, Request, HTTPException\n",
    "from fastapi.responses import HTMLResponse, FileResponse\n",
    "from fastapi.templating import Jinja2Templates\n",
    "from fastapi.staticfiles import StaticFiles\n",
    "import nest_asyncio"
   ]
  },
  {
   "cell_type": "markdown",
   "id": "b45506dc",
   "metadata": {},
   "source": [
    "### Step 2: Initialize App and Directories"
   ]
  },
  {
   "cell_type": "code",
   "execution_count": 3,
   "id": "1f5b4478",
   "metadata": {},
   "outputs": [],
   "source": [
    "app = FastAPI(title=\"📸 Profile Uploader API\")\n",
    "\n",
    "UPLOAD_DIR = \"uploads\"\n",
    "DATA_FILE = \"data/profiles.json\"\n",
    "\n",
    "os.makedirs(UPLOAD_DIR, exist_ok=True)\n",
    "os.makedirs(\"data\", exist_ok=True)\n",
    "os.makedirs(\"templates\", exist_ok=True)\n",
    "\n",
    "# Mount static directory to serve uploaded images\n",
    "app.mount(\"/uploads\", StaticFiles(directory=UPLOAD_DIR), name=\"uploads\")\n",
    "templates = Jinja2Templates(directory=\"templates\")\n",
    "\n",
    "# Initialize the data file if not present\n",
    "if not os.path.exists(DATA_FILE):\n",
    "    with open(DATA_FILE, \"w\") as f:\n",
    "        json.dump([], f)\n"
   ]
  },
  {
   "cell_type": "markdown",
   "id": "b6d0103b",
   "metadata": {},
   "source": [
    "### Step 3: Utility Functions"
   ]
  },
  {
   "cell_type": "code",
   "execution_count": 4,
   "id": "43d8fe34",
   "metadata": {},
   "outputs": [],
   "source": [
    "def save_profile(profile):\n",
    "    with open(DATA_FILE, \"r\") as f:\n",
    "        profiles = json.load(f)\n",
    "    profiles.append(profile)\n",
    "    with open(DATA_FILE, \"w\") as f:\n",
    "        json.dump(profiles, f, indent=4)\n",
    "\n",
    "def get_profiles():\n",
    "    with open(DATA_FILE, \"r\") as f:\n",
    "        return json.load(f)"
   ]
  },
  {
   "cell_type": "markdown",
   "id": "71e52b7e",
   "metadata": {},
   "source": [
    "### Step 4: API Routes"
   ]
  },
  {
   "cell_type": "code",
   "execution_count": 5,
   "id": "4044996c",
   "metadata": {},
   "outputs": [],
   "source": [
    "@app.get(\"/\", response_class=HTMLResponse)\n",
    "def home(request: Request):\n",
    "    profiles = get_profiles()\n",
    "    return templates.TemplateResponse(\"index.html\", {\"request\": request, \"profiles\": profiles})\n",
    "\n",
    "@app.post(\"/upload-profile/\")\n",
    "async def upload_profile(\n",
    "    name: str = Form(...),\n",
    "    bio: str = Form(...),\n",
    "    image: UploadFile = File(...)\n",
    "):\n",
    "    ext = os.path.splitext(image.filename)[-1]\n",
    "    image_id = f\"{uuid4()}{ext}\"\n",
    "    image_path = os.path.join(UPLOAD_DIR, image_id)\n",
    "\n",
    "    with open(image_path, \"wb\") as f:\n",
    "        content = await image.read()\n",
    "        f.write(content)\n",
    "\n",
    "    profile = {\n",
    "        \"name\": name,\n",
    "        \"bio\": bio,\n",
    "        \"image_filename\": image_id\n",
    "    }\n",
    "    save_profile(profile)\n",
    "    return {\"message\": \"Profile uploaded\", \"image_url\": f\"/uploads/{image_id}\"}\n",
    "\n",
    "@app.get(\"/image/{filename}\")\n",
    "def get_image(filename: str):\n",
    "    path = os.path.join(UPLOAD_DIR, filename)\n",
    "    if not os.path.exists(path):\n",
    "        raise HTTPException(status_code=404, detail=\"Image not found\")\n",
    "    return FileResponse(path)"
   ]
  },
  {
   "cell_type": "markdown",
   "id": "ab5e87b8",
   "metadata": {},
   "source": [
    "### Step 5: HTML Template (Simple Frontend Form)"
   ]
  },
  {
   "cell_type": "code",
   "execution_count": 6,
   "id": "1dbc4c1e",
   "metadata": {},
   "outputs": [],
   "source": [
    "html_code = \"\"\"\n",
    "<!DOCTYPE html>\n",
    "<html>\n",
    "<head><title>Upload Profile</title></head>\n",
    "<body>\n",
    "  <h2>Upload Profile</h2>\n",
    "  <form action=\"/upload-profile/\" enctype=\"multipart/form-data\" method=\"post\">\n",
    "    Name: <input type=\"text\" name=\"name\"><br><br>\n",
    "    Bio: <textarea name=\"bio\"></textarea><br><br>\n",
    "    Image: <input type=\"file\" name=\"image\"><br><br>\n",
    "    <input type=\"submit\" value=\"Upload\">\n",
    "  </form>\n",
    "\n",
    "  <h2>Uploaded Profiles</h2>\n",
    "  {% for profile in profiles %}\n",
    "    <div style=\"margin-bottom: 20px;\">\n",
    "      <strong>{{ profile.name }}</strong><br>\n",
    "      <em>{{ profile.bio }}</em><br>\n",
    "      <img src=\"/uploads/{{ profile.image_filename }}\" width=\"150\"><br>\n",
    "    </div>\n",
    "  {% endfor %}\n",
    "</body>\n",
    "</html>\n",
    "\"\"\"\n",
    "\n",
    "with open(\"templates/index.html\", \"w\") as f:\n",
    "    f.write(html_code)"
   ]
  },
  {
   "cell_type": "markdown",
   "id": "60c0b5a1",
   "metadata": {},
   "source": [
    "### Step 6: Launch API Server in Jupyter Notebook"
   ]
  },
  {
   "cell_type": "code",
   "execution_count": null,
   "id": "945dfdbc",
   "metadata": {},
   "outputs": [
    {
     "name": "stderr",
     "output_type": "stream",
     "text": [
      "INFO:     Started server process [8776]\n",
      "INFO:     Waiting for application startup.\n",
      "INFO:     Application startup complete.\n",
      "INFO:     Uvicorn running on http://0.0.0.0:8000 (Press CTRL+C to quit)\n"
     ]
    },
    {
     "name": "stdout",
     "output_type": "stream",
     "text": [
      "INFO:     127.0.0.1:52650 - \"GET / HTTP/1.1\" 200 OK\n",
      "INFO:     127.0.0.1:52650 - \"GET /favicon.ico HTTP/1.1\" 404 Not Found\n",
      "INFO:     127.0.0.1:52658 - \"POST /upload-profile/ HTTP/1.1\" 200 OK\n",
      "INFO:     127.0.0.1:52663 - \"GET /upload-profile/ HTTP/1.1\" 405 Method Not Allowed\n",
      "INFO:     127.0.0.1:52663 - \"GET / HTTP/1.1\" 200 OK\n",
      "INFO:     127.0.0.1:52663 - \"GET /uploads/560aea48-fa69-4a77-b04c-7ae37ffdee71.png HTTP/1.1\" 200 OK\n",
      "INFO:     127.0.0.1:52664 - \"POST /upload-profile/ HTTP/1.1\" 200 OK\n",
      "INFO:     127.0.0.1:52673 - \"GET / HTTP/1.1\" 200 OK\n",
      "INFO:     127.0.0.1:52673 - \"GET /uploads/f807c5f8-d00e-4c05-a42c-78d36d5d5a19.png HTTP/1.1\" 200 OK\n",
      "INFO:     127.0.0.1:52674 - \"GET /uploads/560aea48-fa69-4a77-b04c-7ae37ffdee71.png HTTP/1.1\" 304 Not Modified\n",
      "INFO:     127.0.0.1:52679 - \"GET / HTTP/1.1\" 200 OK\n",
      "INFO:     127.0.0.1:52679 - \"GET /uploads/560aea48-fa69-4a77-b04c-7ae37ffdee71.png HTTP/1.1\" 304 Not Modified\n",
      "INFO:     127.0.0.1:52681 - \"GET /uploads/f807c5f8-d00e-4c05-a42c-78d36d5d5a19.png HTTP/1.1\" 304 Not Modified\n",
      "INFO:     127.0.0.1:52679 - \"GET /docs HTTP/1.1\" 200 OK\n",
      "INFO:     127.0.0.1:52679 - \"GET /openapi.json HTTP/1.1\" 200 OK\n",
      "INFO:     127.0.0.1:52680 - \"GET / HTTP/1.1\" 200 OK\n",
      "INFO:     127.0.0.1:52702 - \"POST /upload-profile/ HTTP/1.1\" 200 OK\n",
      "INFO:     127.0.0.1:52702 - \"POST /upload-profile/ HTTP/1.1\" 200 OK\n",
      "INFO:     127.0.0.1:52731 - \"GET / HTTP/1.1\" 200 OK\n",
      "INFO:     127.0.0.1:52731 - \"GET /uploads/08ae5f27-126c-49ea-8534-768d80ec6769.jpg HTTP/1.1\" 200 OK\n",
      "INFO:     127.0.0.1:52731 - \"GET /uploads/f807c5f8-d00e-4c05-a42c-78d36d5d5a19.png HTTP/1.1\" 304 Not Modified\n",
      "INFO:     127.0.0.1:52734 - \"GET /uploads/560aea48-fa69-4a77-b04c-7ae37ffdee71.png HTTP/1.1\" 304 Not Modified\n",
      "INFO:     127.0.0.1:52733 - \"GET /uploads/351c4cc0-22d4-4fdb-8b0b-b67901f87f32.jpg HTTP/1.1\" 200 OK\n"
     ]
    }
   ],
   "source": [
    "import uvicorn\n",
    "nest_asyncio.apply()\n",
    "\n",
    "# Launch server from notebook (run once per kernel)\n",
    "uvicorn.run(app, host=\"0.0.0.0\", port=8000)"
   ]
  },
  {
   "cell_type": "code",
   "execution_count": null,
   "id": "8a82dd25",
   "metadata": {},
   "outputs": [],
   "source": []
  },
  {
   "cell_type": "code",
   "execution_count": null,
   "id": "b6c9aa00",
   "metadata": {},
   "outputs": [],
   "source": []
  },
  {
   "cell_type": "code",
   "execution_count": null,
   "id": "a517bb18",
   "metadata": {},
   "outputs": [],
   "source": []
  },
  {
   "cell_type": "code",
   "execution_count": null,
   "id": "1a82ca18",
   "metadata": {},
   "outputs": [],
   "source": []
  }
 ],
 "metadata": {
  "kernelspec": {
   "display_name": "Python 3 (ipykernel)",
   "language": "python",
   "name": "python3"
  },
  "language_info": {
   "codemirror_mode": {
    "name": "ipython",
    "version": 3
   },
   "file_extension": ".py",
   "mimetype": "text/x-python",
   "name": "python",
   "nbconvert_exporter": "python",
   "pygments_lexer": "ipython3",
   "version": "3.11.4"
  }
 },
 "nbformat": 4,
 "nbformat_minor": 5
}
